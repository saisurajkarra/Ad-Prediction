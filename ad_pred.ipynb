{
 "cells": [
  {
   "cell_type": "code",
   "execution_count": 1,
   "id": "b9fe907e",
   "metadata": {},
   "outputs": [],
   "source": [
    "import pandas as pd\n",
    "import numpy as np\n",
    "\n",
    "from sklearn.preprocessing import OneHotEncoder\n",
    "from sklearn.preprocessing import LabelEncoder\n",
    "from sklearn.preprocessing import StandardScaler\n",
    "from sklearn.linear_model import LogisticRegression\n",
    "from sklearn.pipeline import Pipeline\n",
    "from sklearn.compose import ColumnTransformer\n",
    "import pickle\n",
    "\n",
    "import warnings\n",
    "warnings.filterwarnings(\"ignore\")"
   ]
  },
  {
   "cell_type": "code",
   "execution_count": 15,
   "id": "faf996c1",
   "metadata": {},
   "outputs": [],
   "source": [
    "train_file = pd.read_csv('Fitbee-Campaigns-Jan-1-2021-Jun-30-2021 (1).csv')"
   ]
  },
  {
   "cell_type": "code",
   "execution_count": 16,
   "id": "8c49b9c7",
   "metadata": {},
   "outputs": [
    {
     "data": {
      "text/html": [
       "<div>\n",
       "<style scoped>\n",
       "    .dataframe tbody tr th:only-of-type {\n",
       "        vertical-align: middle;\n",
       "    }\n",
       "\n",
       "    .dataframe tbody tr th {\n",
       "        vertical-align: top;\n",
       "    }\n",
       "\n",
       "    .dataframe thead th {\n",
       "        text-align: right;\n",
       "    }\n",
       "</style>\n",
       "<table border=\"1\" class=\"dataframe\">\n",
       "  <thead>\n",
       "    <tr style=\"text-align: right;\">\n",
       "      <th></th>\n",
       "      <th>Reporting Starts</th>\n",
       "      <th>Reporting Ends</th>\n",
       "      <th>Campaign Name</th>\n",
       "      <th>Campaign Product Name</th>\n",
       "      <th>Region</th>\n",
       "      <th>Campaign Delivery</th>\n",
       "      <th>Ad Set Budget</th>\n",
       "      <th>Ad Set Budget Type</th>\n",
       "      <th>Results</th>\n",
       "      <th>Result Indicator</th>\n",
       "      <th>Reach</th>\n",
       "      <th>Impressions</th>\n",
       "      <th>Cost per Results</th>\n",
       "      <th>Amount Spent (INR)</th>\n",
       "      <th>Ends</th>\n",
       "      <th>Page Likes</th>\n",
       "    </tr>\n",
       "  </thead>\n",
       "  <tbody>\n",
       "    <tr>\n",
       "      <th>0</th>\n",
       "      <td>01-01-2021</td>\n",
       "      <td>30-06-2021</td>\n",
       "      <td>Instagram Lookalike DM 5.11.2020</td>\n",
       "      <td>Instagram Lookalike</td>\n",
       "      <td>Delhi</td>\n",
       "      <td>inactive</td>\n",
       "      <td>1000</td>\n",
       "      <td>Daily</td>\n",
       "      <td>1.0</td>\n",
       "      <td>actions:onsite_conversion.messaging_conversati...</td>\n",
       "      <td>0</td>\n",
       "      <td>0</td>\n",
       "      <td>NaN</td>\n",
       "      <td>0.000000</td>\n",
       "      <td>Ongoing</td>\n",
       "      <td>NaN</td>\n",
       "    </tr>\n",
       "    <tr>\n",
       "      <th>1</th>\n",
       "      <td>01-01-2021</td>\n",
       "      <td>30-06-2021</td>\n",
       "      <td>Instagram Lookalike DM 5.11.2020</td>\n",
       "      <td>Instagram Lookalike</td>\n",
       "      <td>Karnataka</td>\n",
       "      <td>inactive</td>\n",
       "      <td>1000</td>\n",
       "      <td>Daily</td>\n",
       "      <td>NaN</td>\n",
       "      <td>NaN</td>\n",
       "      <td>0</td>\n",
       "      <td>0</td>\n",
       "      <td>NaN</td>\n",
       "      <td>0.000000</td>\n",
       "      <td>Ongoing</td>\n",
       "      <td>NaN</td>\n",
       "    </tr>\n",
       "    <tr>\n",
       "      <th>2</th>\n",
       "      <td>01-01-2021</td>\n",
       "      <td>30-06-2021</td>\n",
       "      <td>4 Week Plan 04.12.2020</td>\n",
       "      <td>The 4 week Plan</td>\n",
       "      <td>Andaman and Nicobar Islands</td>\n",
       "      <td>inactive</td>\n",
       "      <td>800</td>\n",
       "      <td>Daily</td>\n",
       "      <td>NaN</td>\n",
       "      <td>NaN</td>\n",
       "      <td>128</td>\n",
       "      <td>129</td>\n",
       "      <td>NaN</td>\n",
       "      <td>1.919988</td>\n",
       "      <td>Ongoing</td>\n",
       "      <td>NaN</td>\n",
       "    </tr>\n",
       "    <tr>\n",
       "      <th>3</th>\n",
       "      <td>01-01-2021</td>\n",
       "      <td>30-06-2021</td>\n",
       "      <td>4 Week Plan 04.12.2020</td>\n",
       "      <td>The 4 week Plan</td>\n",
       "      <td>Andhra Pradesh</td>\n",
       "      <td>inactive</td>\n",
       "      <td>800</td>\n",
       "      <td>Daily</td>\n",
       "      <td>17.0</td>\n",
       "      <td>actions:onsite_conversion.messaging_conversati...</td>\n",
       "      <td>8896</td>\n",
       "      <td>11150</td>\n",
       "      <td>13.904620</td>\n",
       "      <td>236.378547</td>\n",
       "      <td>Ongoing</td>\n",
       "      <td>NaN</td>\n",
       "    </tr>\n",
       "    <tr>\n",
       "      <th>4</th>\n",
       "      <td>01-01-2021</td>\n",
       "      <td>30-06-2021</td>\n",
       "      <td>4 Week Plan 04.12.2020</td>\n",
       "      <td>The 4 week Plan</td>\n",
       "      <td>Assam</td>\n",
       "      <td>inactive</td>\n",
       "      <td>800</td>\n",
       "      <td>Daily</td>\n",
       "      <td>1.0</td>\n",
       "      <td>actions:onsite_conversion.messaging_conversati...</td>\n",
       "      <td>1984</td>\n",
       "      <td>2956</td>\n",
       "      <td>45.339721</td>\n",
       "      <td>45.339721</td>\n",
       "      <td>Ongoing</td>\n",
       "      <td>NaN</td>\n",
       "    </tr>\n",
       "  </tbody>\n",
       "</table>\n",
       "</div>"
      ],
      "text/plain": [
       "  Reporting Starts Reporting Ends                     Campaign Name  \\\n",
       "0       01-01-2021     30-06-2021  Instagram Lookalike DM 5.11.2020   \n",
       "1       01-01-2021     30-06-2021  Instagram Lookalike DM 5.11.2020   \n",
       "2       01-01-2021     30-06-2021            4 Week Plan 04.12.2020   \n",
       "3       01-01-2021     30-06-2021            4 Week Plan 04.12.2020   \n",
       "4       01-01-2021     30-06-2021            4 Week Plan 04.12.2020   \n",
       "\n",
       "  Campaign Product Name                       Region Campaign Delivery  \\\n",
       "0   Instagram Lookalike                        Delhi          inactive   \n",
       "1   Instagram Lookalike                    Karnataka          inactive   \n",
       "2       The 4 week Plan  Andaman and Nicobar Islands          inactive   \n",
       "3       The 4 week Plan               Andhra Pradesh          inactive   \n",
       "4       The 4 week Plan                        Assam          inactive   \n",
       "\n",
       "   Ad Set Budget Ad Set Budget Type  Results  \\\n",
       "0           1000              Daily      1.0   \n",
       "1           1000              Daily      NaN   \n",
       "2            800              Daily      NaN   \n",
       "3            800              Daily     17.0   \n",
       "4            800              Daily      1.0   \n",
       "\n",
       "                                    Result Indicator  Reach  Impressions  \\\n",
       "0  actions:onsite_conversion.messaging_conversati...      0            0   \n",
       "1                                                NaN      0            0   \n",
       "2                                                NaN    128          129   \n",
       "3  actions:onsite_conversion.messaging_conversati...   8896        11150   \n",
       "4  actions:onsite_conversion.messaging_conversati...   1984         2956   \n",
       "\n",
       "   Cost per Results  Amount Spent (INR)     Ends  Page Likes  \n",
       "0               NaN            0.000000  Ongoing         NaN  \n",
       "1               NaN            0.000000  Ongoing         NaN  \n",
       "2               NaN            1.919988  Ongoing         NaN  \n",
       "3         13.904620          236.378547  Ongoing         NaN  \n",
       "4         45.339721           45.339721  Ongoing         NaN  "
      ]
     },
     "execution_count": 16,
     "metadata": {},
     "output_type": "execute_result"
    }
   ],
   "source": [
    "train_file.head()"
   ]
  },
  {
   "cell_type": "code",
   "execution_count": 17,
   "id": "0623dcaf",
   "metadata": {},
   "outputs": [],
   "source": [
    "train_file= train_file.fillna(method='ffill')"
   ]
  },
  {
   "cell_type": "code",
   "execution_count": 18,
   "id": "63c239af",
   "metadata": {},
   "outputs": [
    {
     "data": {
      "text/plain": [
       "(2214, 16)"
      ]
     },
     "execution_count": 18,
     "metadata": {},
     "output_type": "execute_result"
    }
   ],
   "source": [
    "train_file.shape"
   ]
  },
  {
   "cell_type": "code",
   "execution_count": 19,
   "id": "8680b46c",
   "metadata": {},
   "outputs": [
    {
     "name": "stdout",
     "output_type": "stream",
     "text": [
      "<class 'pandas.core.frame.DataFrame'>\n",
      "RangeIndex: 2214 entries, 0 to 2213\n",
      "Data columns (total 16 columns):\n",
      " #   Column                 Non-Null Count  Dtype  \n",
      "---  ------                 --------------  -----  \n",
      " 0   Reporting Starts       2214 non-null   object \n",
      " 1   Reporting Ends         2214 non-null   object \n",
      " 2   Campaign Name          2214 non-null   object \n",
      " 3   Campaign Product Name  2214 non-null   object \n",
      " 4   Region                 2214 non-null   object \n",
      " 5   Campaign Delivery      2214 non-null   object \n",
      " 6   Ad Set Budget          2214 non-null   int64  \n",
      " 7   Ad Set Budget Type     2214 non-null   object \n",
      " 8   Results                2214 non-null   float64\n",
      " 9   Result Indicator       2214 non-null   object \n",
      " 10  Reach                  2214 non-null   int64  \n",
      " 11  Impressions            2214 non-null   int64  \n",
      " 12  Cost per Results       2211 non-null   float64\n",
      " 13  Amount Spent (INR)     2214 non-null   float64\n",
      " 14  Ends                   2214 non-null   object \n",
      " 15  Page Likes             0 non-null      float64\n",
      "dtypes: float64(4), int64(3), object(9)\n",
      "memory usage: 276.9+ KB\n"
     ]
    }
   ],
   "source": [
    "train_file.info()"
   ]
  },
  {
   "cell_type": "code",
   "execution_count": 21,
   "id": "1809f85a",
   "metadata": {},
   "outputs": [],
   "source": [
    "train_x = train_file[[ 'Campaign Product Name', 'Region', 'Amount Spent (INR)']]\n",
    "train_y = train_file['Results']"
   ]
  },
  {
   "cell_type": "code",
   "execution_count": 22,
   "id": "03b88943",
   "metadata": {},
   "outputs": [
    {
     "data": {
      "text/html": [
       "<div>\n",
       "<style scoped>\n",
       "    .dataframe tbody tr th:only-of-type {\n",
       "        vertical-align: middle;\n",
       "    }\n",
       "\n",
       "    .dataframe tbody tr th {\n",
       "        vertical-align: top;\n",
       "    }\n",
       "\n",
       "    .dataframe thead th {\n",
       "        text-align: right;\n",
       "    }\n",
       "</style>\n",
       "<table border=\"1\" class=\"dataframe\">\n",
       "  <thead>\n",
       "    <tr style=\"text-align: right;\">\n",
       "      <th></th>\n",
       "      <th>Campaign Product Name</th>\n",
       "      <th>Region</th>\n",
       "      <th>Amount Spent (INR)</th>\n",
       "    </tr>\n",
       "  </thead>\n",
       "  <tbody>\n",
       "    <tr>\n",
       "      <th>0</th>\n",
       "      <td>Instagram Lookalike</td>\n",
       "      <td>Delhi</td>\n",
       "      <td>0.000000</td>\n",
       "    </tr>\n",
       "    <tr>\n",
       "      <th>1</th>\n",
       "      <td>Instagram Lookalike</td>\n",
       "      <td>Karnataka</td>\n",
       "      <td>0.000000</td>\n",
       "    </tr>\n",
       "    <tr>\n",
       "      <th>2</th>\n",
       "      <td>The 4 week Plan</td>\n",
       "      <td>Andaman and Nicobar Islands</td>\n",
       "      <td>1.919988</td>\n",
       "    </tr>\n",
       "    <tr>\n",
       "      <th>3</th>\n",
       "      <td>The 4 week Plan</td>\n",
       "      <td>Andhra Pradesh</td>\n",
       "      <td>236.378547</td>\n",
       "    </tr>\n",
       "    <tr>\n",
       "      <th>4</th>\n",
       "      <td>The 4 week Plan</td>\n",
       "      <td>Assam</td>\n",
       "      <td>45.339721</td>\n",
       "    </tr>\n",
       "  </tbody>\n",
       "</table>\n",
       "</div>"
      ],
      "text/plain": [
       "  Campaign Product Name                       Region  Amount Spent (INR)\n",
       "0   Instagram Lookalike                        Delhi            0.000000\n",
       "1   Instagram Lookalike                    Karnataka            0.000000\n",
       "2       The 4 week Plan  Andaman and Nicobar Islands            1.919988\n",
       "3       The 4 week Plan               Andhra Pradesh          236.378547\n",
       "4       The 4 week Plan                        Assam           45.339721"
      ]
     },
     "execution_count": 22,
     "metadata": {},
     "output_type": "execute_result"
    }
   ],
   "source": [
    "train_x.head()"
   ]
  },
  {
   "cell_type": "code",
   "execution_count": 26,
   "id": "039d335b",
   "metadata": {},
   "outputs": [],
   "source": [
    "from sklearn.pipeline import Pipeline\n",
    "from sklearn.compose import ColumnTransformer\n",
    "\n",
    "numeric_features = ['Amount Spent (INR)']\n",
    "numeric_transformer = Pipeline(steps=[('scaler', StandardScaler())])    \n",
    "\n",
    "categorical_features = ['Campaign Product Name', 'Region']\n",
    "categorical_transformer = OneHotEncoder(drop='first', sparse=False)\n",
    "\n",
    "preprocessor = ColumnTransformer(transformers=[('num', numeric_transformer, numeric_features),\n",
    "                                               ('cat', categorical_transformer, categorical_features)])"
   ]
  },
  {
   "cell_type": "code",
   "execution_count": 27,
   "id": "ecfb759d",
   "metadata": {},
   "outputs": [],
   "source": [
    "clf = Pipeline(steps=[('preprocessor', preprocessor),\n",
    "                      ('classifier', LogisticRegression(random_state=100))])"
   ]
  },
  {
   "cell_type": "code",
   "execution_count": 28,
   "id": "92db899d",
   "metadata": {},
   "outputs": [
    {
     "data": {
      "text/plain": [
       "Pipeline(steps=[('preprocessor',\n",
       "                 ColumnTransformer(transformers=[('num',\n",
       "                                                  Pipeline(steps=[('scaler',\n",
       "                                                                   StandardScaler())]),\n",
       "                                                  ['Amount Spent (INR)']),\n",
       "                                                 ('cat',\n",
       "                                                  OneHotEncoder(drop='first',\n",
       "                                                                sparse=False),\n",
       "                                                  ['Campaign Product Name',\n",
       "                                                   'Region'])])),\n",
       "                ('classifier', LogisticRegression(random_state=100))])"
      ]
     },
     "execution_count": 28,
     "metadata": {},
     "output_type": "execute_result"
    }
   ],
   "source": [
    "clf.fit(train_x, train_y)"
   ]
  },
  {
   "cell_type": "code",
   "execution_count": 29,
   "id": "a74b03cd",
   "metadata": {},
   "outputs": [],
   "source": [
    "pickle.dump(clf, open('model.pkl', 'wb'))"
   ]
  },
  {
   "cell_type": "code",
   "execution_count": null,
   "id": "8b96ddf6",
   "metadata": {},
   "outputs": [],
   "source": []
  }
 ],
 "metadata": {
  "kernelspec": {
   "display_name": "Python 3",
   "language": "python",
   "name": "python3"
  },
  "language_info": {
   "codemirror_mode": {
    "name": "ipython",
    "version": 3
   },
   "file_extension": ".py",
   "mimetype": "text/x-python",
   "name": "python",
   "nbconvert_exporter": "python",
   "pygments_lexer": "ipython3",
   "version": "3.8.8"
  }
 },
 "nbformat": 4,
 "nbformat_minor": 5
}
